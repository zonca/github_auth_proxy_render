{
 "metadata": {
  "kernelspec": {
   "name": "python",
   "display_name": "Python (Pyodide)",
   "language": "python"
  },
  "language_info": {
   "codemirror_mode": {
    "name": "python",
    "version": 3
   },
   "file_extension": ".py",
   "mimetype": "text/x-python",
   "name": "python",
   "nbconvert_exporter": "python",
   "pygments_lexer": "ipython3",
   "version": "3.8"
  }
 },
 "nbformat_minor": 4,
 "nbformat": 4,
 "cells": [
  {
   "cell_type": "code",
   "source": "%pip install dulwich",
   "metadata": {
    "trusted": true
   },
   "outputs": [],
   "execution_count": 6
  },
  {
   "cell_type": "code",
   "source": [
    "import time\n",
    "import requests\n",
    "\n",
    "from IPython.display import display, HTML\n",
    "\n",
    "\n",
    "def log_to_notebook(message):\n",
    "    display(HTML(message))\n",
    "\n",
    "\n",
    "response = requests.post(\n",
    "    \"https://github-auth-proxy.onrender.com/get-device-code\",\n",
    "    headers={\"Content-Type\": \"application/json\"},\n",
    ")\n",
    "\n",
    "if response.status_code != 200:\n",
    "    raise Exception(\"Network response was not ok\")\n",
    "\n",
    "data = response.json()\n",
    "device_code = data[\"device_code\"]\n",
    "log_to_notebook(\n",
    "    f'<br><strong>1. Visit:</strong> <a href=\"{data[\"verification_uri\"]}\" target=\"_blank\">{data[\"verification_uri\"]}</a>'\n",
    ")\n",
    "log_to_notebook(f\"2. Enter the code below\")\n",
    "print(data[\"user_code\"])"
   ],
   "metadata": {
    "trusted": true
   },
   "outputs": [
    {
     "output_type": "display_data",
     "data": {
      "text/plain": "<IPython.core.display.HTML object>",
      "text/html": "<br><strong>1. Visit:</strong> <a href=\"https://github.com/login/device\" target=\"_blank\">https://github.com/login/device</a>"
     },
     "metadata": {}
    },
    {
     "output_type": "display_data",
     "data": {
      "text/plain": "<IPython.core.display.HTML object>",
      "text/html": "2. Enter the code below"
     },
     "metadata": {}
    },
    {
     "name": "stdout",
     "output_type": "stream",
     "text": "9A8F-9CEB\n"
    }
   ],
   "execution_count": 2
  },
  {
   "cell_type": "code",
   "source": [
    "token_response = requests.post(\n",
    "    \"https://github-auth-proxy.onrender.com/exchange-token\",\n",
    "    headers={\"Content-Type\": \"application/json\"},\n",
    "    json={\"code\": device_code},\n",
    ")\n",
    "\n",
    "token_data = token_response.json()\n",
    "if token_data.get(\"access_token\"):\n",
    "    print(\"Authentication successful!\")\n",
    "    github_access_token = token_data[\"access_token\"]\n",
    "elif token_data.get(\"error\") == \"authorization_pending\":\n",
    "    print(\"Waiting for user approval...\")\n",
    "    time.sleep(data[\"interval\"])\n",
    "else:\n",
    "    print(\"Error: \" + token_data.get(\"error\", \"Unknown error\"))"
   ],
   "metadata": {
    "trusted": true
   },
   "outputs": [
    {
     "name": "stdout",
     "output_type": "stream",
     "text": "Authentication successful!\n"
    }
   ],
   "execution_count": 3
  },
  {
   "cell_type": "code",
   "source": "!rm -fr github_auth_proxy_render",
   "metadata": {},
   "outputs": [],
   "execution_count": 29
  },
  {
   "cell_type": "code",
   "source": "token_file_path = \".github_access_token\"\nwith open(token_file_path, \"w\") as token_file:\n    token_file.write(github_access_token)\nprint(f\"Token saved to {token_file_path}\")",
   "metadata": {
    "trusted": true
   },
   "outputs": [
    {
     "name": "stdout",
     "output_type": "stream",
     "text": "Token saved to .github_access_token\n"
    }
   ],
   "execution_count": 11
  },
  {
   "cell_type": "code",
   "source": "",
   "metadata": {
    "trusted": true
   },
   "outputs": [],
   "execution_count": null
  }
 ]
}